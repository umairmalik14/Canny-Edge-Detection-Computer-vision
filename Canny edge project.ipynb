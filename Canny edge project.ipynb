{
 "cells": [
  {
   "cell_type": "code",
   "execution_count": 1,
   "id": "634f4bc9",
   "metadata": {},
   "outputs": [],
   "source": [
    "import cv2\n",
    "import numpy as np\n"
   ]
  },
  {
   "cell_type": "code",
   "execution_count": 2,
   "id": "c387373b",
   "metadata": {},
   "outputs": [],
   "source": [
    "image = cv2.imread('/Users/Umair/image1.jpg')\n",
    "image = cv2.cvtColor(image, cv2.COLOR_BGR2GRAY)"
   ]
  },
  {
   "cell_type": "code",
   "execution_count": 3,
   "id": "6478ba7c",
   "metadata": {},
   "outputs": [],
   "source": [
    "gradients_sobelx = cv2.Sobel(image, -1, 1, 0)\n",
    "gradients_sobely = cv2.Sobel(image, -1, 0, 1)\n",
    "gradients_sobelxy = cv2.addWeighted(gradients_sobelx, 0.5, gradients_sobely, 0.5, 0)"
   ]
  },
  {
   "cell_type": "code",
   "execution_count": 4,
   "id": "654473ab",
   "metadata": {},
   "outputs": [],
   "source": [
    "gradients_laplacian = cv2.Laplacian(image, -1)"
   ]
  },
  {
   "cell_type": "code",
   "execution_count": 5,
   "id": "6475c20b",
   "metadata": {},
   "outputs": [],
   "source": [
    "canny_output = cv2.Canny(image, 80, 150)"
   ]
  },
  {
   "cell_type": "code",
   "execution_count": null,
   "id": "2915e1b8",
   "metadata": {},
   "outputs": [],
   "source": [
    "cv2.imshow('Sobel x', gradients_sobelx)\n",
    "cv2.imshow('Sobel y', gradients_sobely)\n",
    "cv2.imshow('Sobel x+y', gradients_sobelxy)\n",
    "cv2.imshow('Laplacian', gradients_laplacian)\n",
    "cv2.imshow('Canny', canny_output)\n",
    "cv2.waitKey()"
   ]
  },
  {
   "cell_type": "code",
   "execution_count": null,
   "id": "eb8a6bed",
   "metadata": {},
   "outputs": [],
   "source": []
  }
 ],
 "metadata": {
  "kernelspec": {
   "display_name": "Python 3",
   "language": "python",
   "name": "python3"
  },
  "language_info": {
   "codemirror_mode": {
    "name": "ipython",
    "version": 3
   },
   "file_extension": ".py",
   "mimetype": "text/x-python",
   "name": "python",
   "nbconvert_exporter": "python",
   "pygments_lexer": "ipython3",
   "version": "3.8.8"
  }
 },
 "nbformat": 4,
 "nbformat_minor": 5
}
